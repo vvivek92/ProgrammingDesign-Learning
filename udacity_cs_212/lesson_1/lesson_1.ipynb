{
 "cells": [
  {
   "cell_type": "code",
   "execution_count": 68,
   "metadata": {
    "collapsed": true
   },
   "outputs": [],
   "source": [
    "def sum_of_squares(list1):\n",
    "    return sum([element ** 2 for element in list1])"
   ]
  },
  {
   "cell_type": "code",
   "execution_count": 69,
   "metadata": {
    "collapsed": false
   },
   "outputs": [
    {
     "name": "stdout",
     "output_type": "stream",
     "text": [
      "55\n",
      "0\n"
     ]
    }
   ],
   "source": [
    "print sum_of_squares([1,2,3,4,5])\n",
    "print sum_of_squares([])"
   ]
  },
  {
   "cell_type": "markdown",
   "metadata": {},
   "source": [
    "# Poker Game Program"
   ]
  },
  {
   "cell_type": "markdown",
   "metadata": {},
   "source": [
    "Each card has a rank and suite. For 5J, rank is 5, suite is J. <br>\n",
    "\n",
    "Write a program that picks the best ranked hand.  <br>\n",
    "The following is the list of different kinds of hand in ascending order of importance/rank\n",
    "\n",
    "<b>0) Nothing or High Card:</b> <br>\n",
    "When two hands fall in this category, we break the tie based on the highest card of each hand<br><br>\n",
    "\n",
    "\n",
    "<b>1) pair:</b> <br>\n",
    "Two of a kind. Others are all of different kind.<br><br>\n",
    "\n",
    "<b>2)Two pair:</b><br>\n",
    "Two of a kind x. Two more of same kind y<br><br>\n",
    "\n",
    "\n",
    "<b>3)3 of a kind:</b><br>\n",
    " three cards have same rank<br><br>\n",
    "\n",
    "<b>4) straight:</b><br>\n",
    "The ranks of the hand form a sequence.<br><br>\n",
    "\n",
    "<b>5) Flush:</b><br>\n",
    "All cards in the hand have same suite.<br><br>\n",
    "\n",
    "<b>6) Full House:</b><br>\n",
    "Three cards of one rank. Two cards have another rank.<br><br>\n",
    "\n",
    "<b>7) Four of a kind:</b><br>\n",
    "four cards have same rank<br><br>\n",
    "\n",
    "<b>8) Straigh flush:</b><br>\n",
    "Straight and Flush.<br><br>"
   ]
  },
  {
   "cell_type": "code",
   "execution_count": 70,
   "metadata": {
    "collapsed": false
   },
   "outputs": [],
   "source": [
    "def card_ranks(hand):\n",
    "    \"Returns ranks of hand in reverse order\"\n",
    "    special_cards = {\"T\": 10, \"J\": 11, \"Q\": 12, \"K\" : 13, \"A\" : 14}\n",
    "    return sorted([ int(card[0]) if card[0] not in special_cards else special_cards[card[0]]   for card in hand ],reverse = True)\n",
    "\n",
    "def straight(ranks):\n",
    "    \"Returns whether the given ranks form a straight\"    \n",
    "    for i in range(0,len(ranks)-1):\n",
    "        if ranks[i] != ranks[i+1] + 1:\n",
    "            return False\n",
    "    return True\n",
    "\n",
    "def flush(hand):\n",
    "    \"Returns True if all cards have same suite\"\n",
    "    return len(set([card[1] for card in hand])) == 1\n",
    "\n",
    "from collections import Counter            \n",
    "def kind(n, ranks):\n",
    "    \"Return the rank that repeats n times. When there is no such unique rank, this function return False\"\n",
    "    counter = Counter(ranks)\n",
    "    ranks_with_freq_n = [k for k,v in counter.iteritems() if v == n ] \n",
    "    if len(ranks_with_freq_n) == 1:\n",
    "        return ranks_with_freq_n[0]\n",
    "    else:\n",
    "        return None\n",
    "        \n",
    "\n",
    "def two_pair(ranks):\n",
    "    \"Return reverse sorted two_pair for given rank. Else return None\"\n",
    "    counter = Counter(ranks)\n",
    "    ranks_with_freq_n = [k for k,v in counter.iteritems() if v == 2 ] \n",
    "    if len(ranks_with_freq_n) == 2:\n",
    "        return sorted(ranks_with_freq_n, reverse= True)\n",
    "    else:\n",
    "        return None\n",
    "    \n",
    "    \n",
    "def hand_rank(hand):\n",
    "    \"Return the rank of given hand: hand_rank(hand) => value\"\n",
    "    ranks = card_ranks(hand)\n",
    "    # card_ranks returns the ranks in reverse sorted order.\n",
    "    if straight(ranks) and flush(hand):\n",
    "        return (8,max(ranks))\n",
    "    elif kind(4, ranks):\n",
    "        return (7, kind(4,ranks),kind(1,ranks))\n",
    "    elif kind(3, ranks) and kind(2, ranks):\n",
    "        return (6, kind(3, ranks), kind(2, ranks))\n",
    "    elif flush(hand):\n",
    "        return (5, max(ranks))\n",
    "    elif straight(ranks):\n",
    "        return (4, max(ranks))\n",
    "    elif kind(3, ranks):\n",
    "        # TODO should include the two other numbers in the tuple\n",
    "        return (3, kind(3, ranks), ranks)\n",
    "    elif two_pair(ranks):\n",
    "        return(2, two_pair(ranks),ranks)\n",
    "    elif kind(2,ranks):\n",
    "        return (1, kind(2, ranks), ranks)\n",
    "    else:\n",
    "        return (0, ranks)\n",
    "\n",
    "def poker(hands):\n",
    "    \"Return the best hand: poker([hand,...]) => hand\"\n",
    "    return max(hands, key = hand_rank)"
   ]
  },
  {
   "cell_type": "code",
   "execution_count": 71,
   "metadata": {
    "collapsed": true
   },
   "outputs": [],
   "source": [
    "def test():\n",
    "    \"Test cases for the functions in the poker program\"\n",
    "    #### TEST 1\n",
    "    # straight flush\n",
    "    sf = \"6C 7C 8C 9C TC\".split()\n",
    "    # four ok a kinf\n",
    "    fk = \"9D 9H 9S 9C 7D\".split()\n",
    "    # full house\n",
    "    fh = \"TD TC TH 7C 7D\".split()\n",
    "    assert poker([sf,fk,fh]) == sf\n",
    "    #### TEST 2\n",
    "    assert poker([fk,fh]) == fk\n",
    "    #### TEST 3\n",
    "    assert poker([fh,fh]) == fh\n",
    "    #### TEST 4\n",
    "    assert poker([fh]) == fh\n",
    "    #### TEST 5\n",
    "    assert poker([sf] + 99*[fh]) == sf\n",
    "    #### TEST CASES for hand_rank\n",
    "    assert hand_rank(sf) == (8,10)\n",
    "    assert hand_rank(fk) == (7,9,7)\n",
    "    assert hand_rank(fh) == (6,10,7)\n",
    "    return \"tests pass\""
   ]
  },
  {
   "cell_type": "code",
   "execution_count": 72,
   "metadata": {
    "collapsed": false
   },
   "outputs": [
    {
     "name": "stdout",
     "output_type": "stream",
     "text": [
      "tests pass\n"
     ]
    }
   ],
   "source": [
    "print test()"
   ]
  }
 ],
 "metadata": {
  "kernelspec": {
   "display_name": "Python 2",
   "language": "python",
   "name": "python2"
  },
  "language_info": {
   "codemirror_mode": {
    "name": "ipython",
    "version": 2
   },
   "file_extension": ".py",
   "mimetype": "text/x-python",
   "name": "python",
   "nbconvert_exporter": "python",
   "pygments_lexer": "ipython2",
   "version": "2.7.10"
  }
 },
 "nbformat": 4,
 "nbformat_minor": 0
}
