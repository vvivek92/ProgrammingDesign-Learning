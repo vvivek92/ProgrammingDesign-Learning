{
 "cells": [
  {
   "cell_type": "code",
   "execution_count": 109,
   "metadata": {
    "collapsed": true
   },
   "outputs": [],
   "source": [
    "def sum_of_squares(list1):\n",
    "    return sum([element ** 2 for element in list1])"
   ]
  },
  {
   "cell_type": "code",
   "execution_count": 110,
   "metadata": {
    "collapsed": false
   },
   "outputs": [
    {
     "name": "stdout",
     "output_type": "stream",
     "text": [
      "55\n",
      "0\n"
     ]
    }
   ],
   "source": [
    "print sum_of_squares([1,2,3,4,5])\n",
    "print sum_of_squares([])"
   ]
  },
  {
   "cell_type": "markdown",
   "metadata": {},
   "source": [
    "# Poker Game Program"
   ]
  },
  {
   "cell_type": "markdown",
   "metadata": {},
   "source": [
    "Each card has a rank and suite. For 5J, rank is 5, suite is J. <br>\n",
    "\n",
    "Write a program that picks the best ranked hand.  <br>\n",
    "The following is the list of different kinds of hand in ascending order of importance/rank\n",
    "\n",
    "<b>0) Nothing or High Card:</b> <br>\n",
    "When two hands fall in this category, we break the tie based on the highest card of each hand<br><br>\n",
    "\n",
    "\n",
    "<b>1) pair:</b> <br>\n",
    "Two of a kind. Others are all of different kind.<br><br>\n",
    "\n",
    "<b>2)Two pair:</b><br>\n",
    "Two of a kind x. Two more of same kind y<br><br>\n",
    "\n",
    "\n",
    "<b>3)3 of a kind:</b><br>\n",
    " three cards have same rank<br><br>\n",
    "\n",
    "<b>4) straight:</b><br>\n",
    "The ranks of the hand form a sequence.<br><br>\n",
    "\n",
    "<b>5) Flush:</b><br>\n",
    "All cards in the hand have same suite.<br><br>\n",
    "\n",
    "<b>6) Full House:</b><br>\n",
    "Three cards of one rank. Two cards have another rank.<br><br>\n",
    "\n",
    "<b>7) Four of a kind:</b><br>\n",
    "four cards have same rank<br><br>\n",
    "\n",
    "<b>8) Straigh flush:</b><br>\n",
    "Straight and Flush.<br><br>"
   ]
  },
  {
   "cell_type": "code",
   "execution_count": 111,
   "metadata": {
    "collapsed": false
   },
   "outputs": [],
   "source": [
    "def card_ranks(hand):\n",
    "    \"Returns ranks of hand in reverse order\"\n",
    "    special_cards = {\"T\": 10, \"J\": 11, \"Q\": 12, \"K\" : 13, \"A\" : 14}\n",
    "    return sorted([ int(card[0]) if card[0] not in special_cards else special_cards[card[0]]   for card in hand ],reverse = True)\n",
    "\n",
    "def straight(ranks):\n",
    "    \"Returns whether the given ranks form a straight\"    \n",
    "    for i in range(0,len(ranks)-1):\n",
    "        if ranks[i] != ranks[i+1] + 1:\n",
    "            return False\n",
    "    return True\n",
    "\n",
    "def flush(hand):\n",
    "    \"Returns True if all cards have same suite\"\n",
    "    return len(set([card[1] for card in hand])) == 1\n",
    "\n",
    "from collections import Counter            \n",
    "def kind(n, ranks):\n",
    "    \"Return the rank that repeats n times. When there is no such unique rank, this function return False\"\n",
    "    counter = Counter(ranks)\n",
    "    ranks_with_freq_n = [k for k,v in counter.iteritems() if v == n ] \n",
    "    if len(ranks_with_freq_n) == 1:\n",
    "        return ranks_with_freq_n[0]\n",
    "    else:\n",
    "        return None\n",
    "        \n",
    "\n",
    "def two_pair(ranks):\n",
    "    \"Return reverse sorted two_pair for given rank. Else return None\"\n",
    "    counter = Counter(ranks)\n",
    "    ranks_with_freq_n = [k for k,v in counter.iteritems() if v == 2 ] \n",
    "    if len(ranks_with_freq_n) == 2:\n",
    "        return sorted(ranks_with_freq_n, reverse= True)\n",
    "    else:\n",
    "        return None\n",
    "    \n",
    "    \n",
    "def hand_rank(hand):\n",
    "    \"Return the rank of given hand: hand_rank(hand) => value\"\n",
    "    ranks = card_ranks(hand)\n",
    "    # card_ranks returns the ranks in reverse sorted order.\n",
    "    if straight(ranks) and flush(hand):\n",
    "        return (8,max(ranks))\n",
    "    elif kind(4, ranks):\n",
    "        return (7, kind(4,ranks),kind(1,ranks))\n",
    "    elif kind(3, ranks) and kind(2, ranks):\n",
    "        return (6, kind(3, ranks), kind(2, ranks))\n",
    "    elif flush(hand):\n",
    "        return (5, max(ranks))\n",
    "    elif straight(ranks):\n",
    "        return (4, max(ranks))\n",
    "    elif kind(3, ranks):\n",
    "        # TODO should include the two other numbers in the tuple\n",
    "        return (3, kind(3, ranks), ranks)\n",
    "    elif two_pair(ranks):\n",
    "        return(2, two_pair(ranks),ranks)\n",
    "    elif kind(2,ranks):\n",
    "        return (1, kind(2, ranks), ranks)\n",
    "    else:\n",
    "        return (0, ranks)\n",
    "\n",
    "def poker(hands):\n",
    "    \"Return the best hand: poker([hand,...]) => hand\"\n",
    "    return max(hands, key = hand_rank)"
   ]
  },
  {
   "cell_type": "code",
   "execution_count": 112,
   "metadata": {
    "collapsed": true
   },
   "outputs": [],
   "source": [
    "def test(poker):\n",
    "    \"Test cases for the functions in the poker program\"\n",
    "    #### TEST 1\n",
    "    # straight flush\n",
    "    sf = \"6C 7C 8C 9C TC\".split()\n",
    "    # four ok a kinf\n",
    "    fk = \"9D 9H 9S 9C 7D\".split()\n",
    "    # full house\n",
    "    fh = \"TD TC TH 7C 7D\".split()\n",
    "    assert poker([sf,fk,fh]) == sf\n",
    "    #### TEST 2\n",
    "    assert poker([fk,fh]) == fk\n",
    "    #### TEST 3\n",
    "    assert poker([fh,fh]) == fh\n",
    "    #### TEST 4\n",
    "    assert poker([fh]) == fh\n",
    "    #### TEST 5\n",
    "    assert poker([sf] + 99*[fh]) == sf\n",
    "    #### TEST CASES for hand_rank\n",
    "    assert hand_rank(sf) == (8,10)\n",
    "    assert hand_rank(fk) == (7,9,7)\n",
    "    assert hand_rank(fh) == (6,10,7)\n",
    "    return \"tests pass\""
   ]
  },
  {
   "cell_type": "code",
   "execution_count": 113,
   "metadata": {
    "collapsed": false
   },
   "outputs": [
    {
     "name": "stdout",
     "output_type": "stream",
     "text": [
      "tests pass\n"
     ]
    }
   ],
   "source": [
    "print test(poker)"
   ]
  },
  {
   "cell_type": "markdown",
   "metadata": {},
   "source": [
    "# Further Modifications\n",
    "# Modification1\n",
    "Now we need to modify the Poker Program to accomodate an additional requirement.<br>\n",
    "Till now we have been blindly mapping A to rank 14. But there are cases where the card player can use A as rank 1.<br><br>\n",
    "<b>Example1:</b> \"AS 2S 3S 4S 5C\".split()   # A-5 straight <br>\n",
    "A is used here with rank 1. the highest rank in this hand is 5.<br><br>\n",
    "<b>Example2:</b> \"AS 2S 3S 4S 6C\".split()   # A high <br>\n",
    "A is used here with rank 14.<br>\n",
    "\n",
    "\n"
   ]
  },
  {
   "cell_type": "markdown",
   "metadata": {},
   "source": [
    "A will always map to 14, Except in the case of sequence 2,3,4,5,6 where A will map to 1.<br>\n",
    "# Solution 1\n",
    "Let's just handle that case explicitly in hand_rank<br><br>\n",
    "Demerits of this solution are: <br>\n",
    "                          1) Not Extensible:<br> \n",
    "                             a) If poker game changes to add a new type of hand,<br>\n",
    "                                which is a variant of straight, then the explicit checking increasing.<br>\n",
    "                             b) If straight hand is removed from the game, then we have to clean up the explicit<br>\n",
    "                                check also.<br>\n",
    "                             c) Code duplication of explicit handling<br><br>\n",
    "Merits of this solution:<br>\n",
    "                         1) Code change is proportional to Change in requirement<br>\n",
    "\n",
    "# Solution 2\n",
    "Another alternative is to change the card_ranks implementation<br>\n",
    " It is similar to above solution in all aspects. But the code is DRY(doesn't repeat itself).\n"
   ]
  },
  {
   "cell_type": "code",
   "execution_count": 114,
   "metadata": {
    "collapsed": false
   },
   "outputs": [
    {
     "name": "stdout",
     "output_type": "stream",
     "text": [
      "tests pass\n",
      "additional tests passed\n"
     ]
    }
   ],
   "source": [
    "##SOLUTION 1\n",
    "\n",
    "def hand_rank1(hand):\n",
    "    \"Return the rank of given hand: hand_rank(hand) => value\"\n",
    "    # assume that hand has 5 cards. \n",
    "    #If it doesn't raise an exception\n",
    "    if len(hand) != 5:\n",
    "        raise \n",
    "    ranks = card_ranks(hand)\n",
    "    # card_ranks returns the ranks in reverse sorted order.\n",
    "    if straight(ranks) and flush(hand):\n",
    "        return (8,max(ranks))\n",
    "    # explicitly handle the sequence A,2,3,4,5\n",
    "    elif ranks == [14,5,4,3,2] and flush(hand):\n",
    "        return (8,5)\n",
    "    elif kind(4, ranks):\n",
    "        return (7, kind(4,ranks),kind(1,ranks))\n",
    "    elif kind(3, ranks) and kind(2, ranks):\n",
    "        return (6, kind(3, ranks), kind(2, ranks))\n",
    "    elif flush(hand):\n",
    "        return (5, max(ranks))\n",
    "    elif straight(ranks):\n",
    "        return (4, max(ranks))\n",
    "    # explicitly handle the sequence A,2,3,4,5\n",
    "    elif ranks == [14,5,4,3,2]:\n",
    "        return (4,5)\n",
    "    elif kind(3, ranks):\n",
    "        return (3, kind(3, ranks), ranks)\n",
    "    elif two_pair(ranks):\n",
    "        return(2, two_pair(ranks),ranks)\n",
    "    elif kind(2,ranks):\n",
    "        return (1, kind(2, ranks), ranks)\n",
    "    else:\n",
    "        return (0, ranks)\n",
    "    \n",
    "def poker1(hands):\n",
    "    \"Return the best hand: poker([hand,...]) => hand\"\n",
    "    return max(hands, key = hand_rank1)\n",
    "\n",
    "def more_tests(poker):\n",
    "    sf_withA = \"AS 2S 3S 4S 5S\".split()  #A-5 straight flush\n",
    "    # straight flush\n",
    "    sf = \"6C 7C 8C 9C TC\".split()\n",
    "    # four ok a kinf\n",
    "    fk = \"9D 9H 9S 9C 7D\".split()\n",
    "    # full house\n",
    "    fh = \"TD TC TH 7C 7D\".split()\n",
    "    assert poker([fk,sf_withA]) == sf_withA\n",
    "    return \"additional tests passed\" \n",
    "print test(poker1)\n",
    "print more_tests(poker1)    "
   ]
  },
  {
   "cell_type": "code",
   "execution_count": 117,
   "metadata": {
    "collapsed": false
   },
   "outputs": [
    {
     "name": "stdout",
     "output_type": "stream",
     "text": [
      "tests pass\n",
      "additional tests passed\n"
     ]
    }
   ],
   "source": [
    "## SOLUTION 2\n",
    "def card_ranks(hand):\n",
    "    \"Returns ranks of hand in reverse order. Also assign A rank 1 to allow A-5 sequence\"\n",
    "    special_cards = {\"T\": 10, \"J\": 11, \"Q\": 12, \"K\" : 13, \"A\" : 14}\n",
    "    ranks = sorted([ int(card[0]) if card[0] not in special_cards else special_cards[card[0]]   for card in hand ],reverse = True)\n",
    "    return ranks if ranks != [14,5,4,3,2] else [5,4,3,2,1]\n",
    "\n",
    "print test(poker)\n",
    "print more_tests(poker)    "
   ]
  },
  {
   "cell_type": "markdown",
   "metadata": {},
   "source": [
    "# Modification 2\n",
    "How do we handle ties in the poker game?\n",
    "modify poker function\n"
   ]
  },
  {
   "cell_type": "code",
   "execution_count": 147,
   "metadata": {
    "collapsed": true
   },
   "outputs": [],
   "source": [
    "def poker(hands):\n",
    "    # Returns list of best hands: poker([hand,...]) => [hand,...]\n",
    "    return allmax(hands,key=hand_rank)\n",
    "\n",
    "def allmax(iterable,key=None):\n",
    "    max_value = max(iterable) if key == None else max(iterable, key=key)\n",
    "    # frequency * value\n",
    "    return iterable.count(max_value) * [max_value]"
   ]
  },
  {
   "cell_type": "code",
   "execution_count": 148,
   "metadata": {
    "collapsed": false
   },
   "outputs": [
    {
     "name": "stdout",
     "output_type": "stream",
     "text": [
      "[3]\n",
      "[-4]\n",
      "[-4, -4, -4]\n"
     ]
    }
   ],
   "source": [
    "print allmax([1,2,3,-4])\n",
    "print allmax([1,2,3,-4],key=abs)\n",
    "print allmax([1,2,3,-4,-4,-4],key=abs)\n"
   ]
  }
 ],
 "metadata": {
  "kernelspec": {
   "display_name": "Python 2",
   "language": "python",
   "name": "python2"
  },
  "language_info": {
   "codemirror_mode": {
    "name": "ipython",
    "version": 2
   },
   "file_extension": ".py",
   "mimetype": "text/x-python",
   "name": "python",
   "nbconvert_exporter": "python",
   "pygments_lexer": "ipython2",
   "version": "2.7.10"
  }
 },
 "nbformat": 4,
 "nbformat_minor": 0
}
