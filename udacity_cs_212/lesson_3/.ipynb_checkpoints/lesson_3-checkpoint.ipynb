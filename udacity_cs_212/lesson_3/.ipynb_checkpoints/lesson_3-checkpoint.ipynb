{
 "cells": [
  {
   "cell_type": "markdown",
   "metadata": {},
   "source": [
    "# Regular Expressions\n",
    "\n",
    " Special            Example       Match\n",
    "* **\\***            a*        '',a,aa,aaa (one or many occurrences)\n",
    "* **?**                 a?        '',a (optional)\n",
    "* **.**                 .          a,b,c,7,! (wild card dot)\n",
    "*  ^                    ^b         ba, bb,  (starts with)\n",
    "*  \\$                    a\\$         ba,xsa  (ends with)\n",
    "*  ''                   ''           ''\n",
    "*   a                    a            a\n",
    "*   ba                  ba            ba\n",
    "\n",
    "\n",
    "\n",
    "## Recogniser Problem \n",
    "\n",
    "Write a method(recogniser) that takes a pattern containing special characters and matches/searches given text. \n",
    "    "
   ]
  },
  {
   "cell_type": "code",
   "execution_count": 1,
   "metadata": {
    "collapsed": false
   },
   "outputs": [
    {
     "name": "stdout",
     "output_type": "stream",
     "text": [
      "tests passed\n"
     ]
    }
   ],
   "source": [
    "# Solution 1. backtracking\n",
    "\n",
    "def search(pattern, text):\n",
    "    \"Return True if pattern appears anywhere in text.\"\n",
    "    return match(\".*\" + pattern, text)\n",
    "    \n",
    "\n",
    "def match(pattern, text):\n",
    "    \"Return True if pattern appears at the start of text\"\n",
    "    # undefined behavior for wrong pattern. pattern validation is not done.\n",
    "    # need to handle 5 special characters\n",
    "    # a*, a?, ., ^, $\n",
    "    if pattern.startswith(\"^\"):\n",
    "        return match(pattern[1:],text)\n",
    "    elif pattern == \"$\":\n",
    "        return len(text) == 0\n",
    "    elif len(pattern) == 0:\n",
    "        return True\n",
    "    elif len(text) == 0:\n",
    "        return len(pattern) == 0\n",
    "    elif len(pattern) > 1 and pattern[:2] == \".*\":\n",
    "        return match(pattern[2:],text) or match(pattern, text[1:])\n",
    "    elif len(pattern) > 1 and pattern[1] == \"?\":\n",
    "        return match(pattern[2:],text) or match(pattern[0] +pattern[2:] , text)\n",
    "    elif len(pattern) > 1 and pattern[1] == \"*\":\n",
    "        return match(pattern[2:],text) or (text[0] == pattern[0] and match(pattern,text[1:]))\n",
    "    elif pattern[0] == \".\":\n",
    "        return match(pattern[2:],text) or match(pattern, text[1:])\n",
    "    else:\n",
    "        return pattern[0] == text[0] and match(pattern[1:], text[1:])\n",
    "    \n",
    "    \n",
    "def test():\n",
    "    assert search('baa*!','Sheep said baaaa!')\n",
    "    assert search('baa*!','Sheep said baaaa humbug') == False\n",
    "    assert match('baa*!','Sheep said baaaa!') == False\n",
    "    assert match('baa*!','baaaaa! said the Sheep')\n",
    "    return \"tests passed\"\n",
    "\n",
    "print test()   "
   ]
  }
 ],
 "metadata": {
  "kernelspec": {
   "display_name": "Python 2",
   "language": "python",
   "name": "python2"
  },
  "language_info": {
   "codemirror_mode": {
    "name": "ipython",
    "version": 2
   },
   "file_extension": ".py",
   "mimetype": "text/x-python",
   "name": "python",
   "nbconvert_exporter": "python",
   "pygments_lexer": "ipython2",
   "version": "2.7.10"
  }
 },
 "nbformat": 4,
 "nbformat_minor": 0
}
