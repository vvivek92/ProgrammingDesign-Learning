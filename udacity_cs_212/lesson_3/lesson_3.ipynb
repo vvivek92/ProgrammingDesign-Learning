{
 "cells": [
  {
   "cell_type": "markdown",
   "metadata": {},
   "source": [
    "# Regular Expressions\n",
    "\n",
    " Special            Example       Match\n",
    "* **\\***            a*        '',a,aa,aaa (one or many occurrences)\n",
    "* **?**                 a?        '',a (optional)\n",
    "* **.**                 .          a,b,c,7,! (wild card dot)\n",
    "*  ^                    ^b         ba, bb,  (starts with)\n",
    "*  \\$                    a\\$         ba,xsa  (ends with)\n",
    "*  ''                   ''           ''\n",
    "*   a                    a            a\n",
    "*   ba                  ba            ba\n",
    "\n",
    "\n",
    "\n",
    "## Recogniser Problem \n",
    "\n",
    "Write a method(recogniser) that takes a pattern containing special characters and matches/searches given text. \n",
    "\n",
    "\n",
    "### Solution 1. backtracking\n",
    "\n",
    "complexity is exponential interms of max_length(pattern, string) \n",
    "\n",
    "    "
   ]
  },
  {
   "cell_type": "code",
   "execution_count": 1,
   "metadata": {
    "collapsed": false
   },
   "outputs": [
    {
     "name": "stdout",
     "output_type": "stream",
     "text": [
      "tests passed\n"
     ]
    }
   ],
   "source": [
    "\n",
    "def search(pattern, text):\n",
    "    \"Return True if pattern appears anywhere in text.\"\n",
    "    return match(\".*\" + pattern, text)\n",
    "    \n",
    "\n",
    "def match(pattern, text):\n",
    "    \"Return True if pattern appears at the start of text\"\n",
    "    # undefined behavior for wrong pattern. pattern validation is not done.\n",
    "    # need to handle 5 special characters\n",
    "    # a*, a?, ., ^, $\n",
    "    if pattern.startswith(\"^\"):\n",
    "        return match(pattern[1:],text)\n",
    "    elif pattern == \"$\":\n",
    "        return len(text) == 0\n",
    "    elif len(pattern) == 0:\n",
    "        return True\n",
    "    elif len(text) == 0:\n",
    "        return len(pattern) == 0\n",
    "    elif len(pattern) > 1 and pattern[:2] == \".*\":\n",
    "        return match(pattern[2:],text) or match(pattern, text[1:])\n",
    "    elif len(pattern) > 1 and pattern[1] == \"?\":\n",
    "        return match(pattern[2:],text) or match(pattern[0] +pattern[2:] , text)\n",
    "    elif len(pattern) > 1 and pattern[1] == \"*\":\n",
    "        return match(pattern[2:],text) or (text[0] == pattern[0] and match(pattern,text[1:]))\n",
    "    elif pattern[0] == \".\":\n",
    "        return match(pattern[2:],text) or match(pattern, text[1:])\n",
    "    else:\n",
    "        return pattern[0] == text[0] and match(pattern[1:], text[1:])\n",
    "    \n",
    "    \n",
    "def test():\n",
    "    assert search('baa*!','Sheep said baaaa!')\n",
    "    assert search('baa*!','Sheep said baaaa humbug') == False\n",
    "    assert match('baa*!','Sheep said baaaa!') == False\n",
    "    assert match('baa*!','baaaaa! said the Sheep')\n",
    "    return \"tests passed\"\n",
    "\n",
    "print test()   "
   ]
  },
  {
   "cell_type": "markdown",
   "metadata": {},
   "source": [
    "### Solution 2: Dynamic Programming\n",
    "\n",
    "The problem has optimal substructure.\n",
    "\n",
    "s is length of string that ranges from [0,S]\n",
    "\n",
    "p is length of string that ranges from [0,P]\n",
    "\n",
    "is_match[s][p] is a substructure solution.\n",
    "\n",
    "Result is is_match[S][P]\n",
    "\n",
    "initialize is_match as False for all data\n",
    "\n",
    "is_match[0][0] = True\n",
    "\n",
    "\n",
    "    for p in range(1,P+1):\n",
    "        for s in range(0,S+1):\n",
    "            if is_match[s][p-1]:\n",
    "                if pattern[p-1] == '.*':\n",
    "                    # consumer a string char and pattern\n",
    "                    is_match[s+1][p] = True\n",
    "                    # consume empty string and pattern\n",
    "                    is_match[s][p] = True\n",
    "                elif '*' in pattern[p-1] or '?'  in pattern[p-1] :\n",
    "                    # consume empty string and pattern\n",
    "                    is_match[s][p] = True\n",
    "                elif pattern[p-1][0] == string[s]:\n",
    "                    # consumer a string char and pattern\n",
    "                    is_match[s+1][p] = True\n",
    "           \n",
    "            \n",
    "            \n",
    "\n"
   ]
  },
  {
   "cell_type": "code",
   "execution_count": 4,
   "metadata": {
    "collapsed": true
   },
   "outputs": [],
   "source": [
    "def tokenize(pattern,tokens = []):\n",
    "    if len(pattern) == 0:\n",
    "        return tokens\n",
    "    elif(len(pattern) >=2 and (pattern[1] == '?' or pattern[1] == '*')):\n",
    "        return tokenize(pattern[2:],tokens + [pattern[:2]])\n",
    "    else:\n",
    "        return tokenize(pattern[1:],tokens + [pattern[0]])\n",
    "        \n",
    "    \n",
    "\n",
    "def match(pattern, text):\n",
    "    \"Return True if pattern appears at the start of text\"\n",
    "    # undefined behavior for wrong pattern. pattern validation is not done.\n",
    "    # need to handle 5 special characters\n",
    "    # a*, a?, ., ^, $\n",
    "    if(pattern.startswith('^')):\n",
    "        pattern = pattern[1:]\n",
    "    if(pattern.endswith('$')):\n",
    "        pattern = pattern[:-1]\n",
    "    pattern_tokens = tokenize(pattern)    \n",
    "    return match_dp(pattern_tokens,text,len(pattern_tokens), len(text))\n",
    "\n",
    "def match_dp(pattern,text,pattern_len, text_len):\n",
    "    is_match = [[False] * text_len+1 for i in pattern_len+1 ]\n",
    "    is_match[0][0]=True\n",
    "    for p in range(1,pattern_len+1):\n",
    "        for s in range(0,text_len +1):\n",
    "            if is_match[s][p-1]:\n",
    "                if pattern[p-1] == '.*':\n",
    "                    # consume a string char and pattern\n",
    "                    is_match[s+1][p] = True\n",
    "                    # consume empty string and pattern\n",
    "                    is_match[s][p] = True\n",
    "                elif '*' in pattern[p-1] or '?'  in pattern[p-1] :\n",
    "                    # consume empty string and pattern\n",
    "                    is_match[s][p] = True\n",
    "                elif pattern[p-1][0] == string[s]:\n",
    "                    # consumer a string char and pattern\n",
    "                    is_match[s+1][p] = True\n",
    " \n",
    "    \n",
    "        \n",
    "        \n"
   ]
  },
  {
   "cell_type": "code",
   "execution_count": null,
   "metadata": {
    "collapsed": true
   },
   "outputs": [],
   "source": []
  }
 ],
 "metadata": {
  "kernelspec": {
   "display_name": "Python 2",
   "language": "python",
   "name": "python2"
  },
  "language_info": {
   "codemirror_mode": {
    "name": "ipython",
    "version": 2
   },
   "file_extension": ".py",
   "mimetype": "text/x-python",
   "name": "python",
   "nbconvert_exporter": "python",
   "pygments_lexer": "ipython2",
   "version": "2.7.11"
  }
 },
 "nbformat": 4,
 "nbformat_minor": 0
}
