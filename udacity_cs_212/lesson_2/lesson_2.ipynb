{
 "cells": [
  {
   "cell_type": "markdown",
   "metadata": {},
   "source": [
    "# Zebra Puzzle\n",
    "There are five houses.<br>\n",
    "The Englishman lives in the red house.<br>\n",
    "The Spaniard owns the dog.<br>\n",
    "Coffee is drunk in the green house.<br>\n",
    "The Ukrainian drinks tea.<br>\n",
    "The green house is immediately to the right of the ivory house.<br>\n",
    "The Old Gold smoker owns snails.<br>\n",
    "Kools are smoked in the yellow house.<br>\n",
    "Milk is drunk in the middle house.<br>\n",
    "The Norwegian lives in the first house.<br>\n",
    "The man who smokes Chesterfields lives in the house next to the man with the fox.<br>\n",
    "Kools are smoked in the house next to the house where the horse is kept.<br>\n",
    "The Lucky Strike smoker drinks orange juice.<br>\n",
    "The Japanese smokes Parliaments.<br>\n",
    "The Norwegian lives next to the blue house.<br>\n",
    "<br><br>\n",
    "Now, who drinks water? Who owns the zebra?<br>\n",
    "In the interest of clarity, it must be added that each of the five houses is painted a different color, and their inhabitants are of different national extractions, own different pets, drink different beverages and smoke different brands of American cigarets [sic]. One other thing: in statement 6, right means your right."
   ]
  },
  {
   "cell_type": "markdown",
   "metadata": {},
   "source": [
    "attributes       H1       H2        H3        H4        H5<br>\n",
    "Nationality<br>\n",
    "Color<br>\n",
    "Pet<br>\n",
    "Beverage<br>\n",
    "Smokes<br>\n",
    "<br>\n",
    "<br>\n",
    "Enumerations<br>\n",
    "Nationality: [\"Englishman\",\"Spaniard\",\"Ukrainian\",\"Norwegian\",\"Japanese\"]<br>\n",
    "Color: [\"green\",\"blue\",\"red\",\"yellow\",\"ivory\"]<br>\n",
    "Pet: [\"dog\",\"snails\",\"fox\",\"zebra\",\"horse\"]<br>\n",
    "Beverage: [\"milk\",\"tea\",\"coffee\",\"orange\",\"water\"]<br>\n",
    "Smokes: [\"Lucky Strike\",\"Parliaments\",\"Kools\",\"Chesterfields\",\"Old Gold\"]<br>\n",
    "\n",
    "\n"
   ]
  },
  {
   "cell_type": "markdown",
   "metadata": {},
   "source": [
    "<b>Solution1:</b><br>\n",
    "Consider all permutations. Pick the first permutation that passes through the filter.  \n"
   ]
  },
  {
   "cell_type": "code",
   "execution_count": 1,
   "metadata": {
    "collapsed": false
   },
   "outputs": [
    {
     "ename": "SyntaxError",
     "evalue": "invalid syntax (<ipython-input-1-2e5bf69fb0bf>, line 4)",
     "output_type": "error",
     "traceback": [
      "\u001b[0;36m  File \u001b[0;32m\"<ipython-input-1-2e5bf69fb0bf>\"\u001b[0;36m, line \u001b[0;32m4\u001b[0m\n\u001b[0;31m    pet: [\"dog\",\"snails\",\"fox\",\"zebra\",\"horse\"]\u001b[0m\n\u001b[0m       ^\u001b[0m\n\u001b[0;31mSyntaxError\u001b[0m\u001b[0;31m:\u001b[0m invalid syntax\n"
     ]
    }
   ],
   "source": [
    "import itertools\n",
    "nationality = [\"Englishman\",\"Spaniard\",\"Ukrainian\",\"Norwegian\",\"Japanese\"]\n",
    "color = [\"green\",\"blue\",\"red\",\"yellow\",\"ivory\"]\n",
    "pet= [\"dog\",\"snails\",\"fox\",\"zebra\",\"horse\"]\n",
    "beverage= [\"milk\",\"tea\",\"coffee\",\"orange\",\"water\"]\n",
    "smokes= [\"Lucky Strike\",\"Parliaments\",\"Kools\",\"Chesterfields\",\"Old Gold\"]    "
   ]
  },
  {
   "cell_type": "code",
   "execution_count": null,
   "metadata": {
    "collapsed": true
   },
   "outputs": [],
   "source": []
  }
 ],
 "metadata": {
  "kernelspec": {
   "display_name": "Python 2",
   "language": "python",
   "name": "python2"
  },
  "language_info": {
   "codemirror_mode": {
    "name": "ipython",
    "version": 2
   },
   "file_extension": ".py",
   "mimetype": "text/x-python",
   "name": "python",
   "nbconvert_exporter": "python",
   "pygments_lexer": "ipython2",
   "version": "2.7.10"
  }
 },
 "nbformat": 4,
 "nbformat_minor": 0
}
