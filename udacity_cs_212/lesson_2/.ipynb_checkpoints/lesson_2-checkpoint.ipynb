{
 "cells": [
  {
   "cell_type": "markdown",
   "metadata": {},
   "source": [
    "# Zebra Puzzle\n",
    "There are five houses.<br>\n",
    "The Englishman lives in the red house.<br>\n",
    "The Spaniard owns the dog.<br>\n",
    "Coffee is drunk in the green house.<br>\n",
    "The Ukrainian drinks tea.<br>\n",
    "The green house is immediately to the right of the ivory house.<br>\n",
    "The Old Gold smoker owns snails.<br>\n",
    "Kools are smoked in the yellow house.<br>\n",
    "Milk is drunk in the middle house.<br>\n",
    "The Norwegian lives in the first house.<br>\n",
    "The man who smokes Chesterfields lives in the house next to the man with the fox.<br>\n",
    "Kools are smoked in the house next to the house where the horse is kept.<br>\n",
    "The Lucky Strike smoker drinks orange juice.<br>\n",
    "The Japanese smokes Parliaments.<br>\n",
    "The Norwegian lives next to the blue house.<br>\n",
    "<br><br>\n",
    "Now, who drinks water? Who owns the zebra?<br>\n",
    "In the interest of clarity, it must be added that each of the five houses is painted a different color, and their inhabitants are of different national extractions, own different pets, drink different beverages and smoke different brands of American cigarets [sic]. One other thing: in statement 6, right means your right."
   ]
  },
  {
   "cell_type": "markdown",
   "metadata": {},
   "source": [
    "attributes       H1       H2        H3        H4        H5<br>\n",
    "Nationality<br>\n",
    "Color<br>\n",
    "Pet<br>\n",
    "Beverage<br>\n",
    "Smokes<br>\n",
    "<br>\n",
    "<br>\n",
    "Enumerations<br>\n",
    "Nationality: [\"Englishman\",\"Spaniard\",\"Ukrainian\",\"Norwegian\",\"Japanese\"]<br>\n",
    "Color: [\"green\",\"blue\",\"red\",\"yellow\",\"ivory\"]<br>\n",
    "Pet: [\"dog\",\"snails\",\"fox\",\"zebra\",\"horse\"]<br>\n",
    "Beverage: [\"milk\",\"tea\",\"coffee\",\"orange\",\"water\"]<br>\n",
    "Smokes: [\"Lucky Strike\",\"Parliaments\",\"Kools\",\"Chesterfields\",\"Old Gold\"]<br>\n",
    "\n",
    "\n"
   ]
  },
  {
   "cell_type": "markdown",
   "metadata": {},
   "source": [
    "Consider all permutations. Pick the first permutation that passes through the filter.  \n",
    "\n",
    "The problem can viewed as filling a 5X5 matrix such that all contraints are honored. The resulting configuration can be used to answer who drinks water? Who owns the zebra?.\n",
    "\n",
    "\n",
    "There are two ways of filling the matrix. Let'e evaluate both.\n",
    "1)We can start with filling attributes one at a time. permute colors, then pets and so on.\n",
    "\n",
    "2)The alternative way would be to fill one house at a time. Assing a color, pet,etc to house and then move on to the other house.\n",
    "\n",
    "\n",
    "Option 2 involves maintaining state around what attributes were assigned for house1,....housex-1 while dealing with housex\n",
    "\n",
    "Option 1 is better as what colors were assigned to which house is independent of what pets or nationality were assigned to each house\n",
    "\n"
   ]
  },
  {
   "cell_type": "code",
   "execution_count": 78,
   "metadata": {
    "collapsed": false
   },
   "outputs": [
    {
     "name": "stdout",
     "output_type": "stream",
     "text": [
      "[3, 2, 4, 1, 5]\n",
      "[5, 2, 3, 1, 4]\n",
      "[2, 1, 3, 4, 5]\n",
      "[3, 1, 4, 2, 5]\n",
      "[2, 5, 3, 4, 1]\n"
     ]
    }
   ],
   "source": [
    "import itertools\n",
    "def solve_zebra_puzzle():\n",
    "    for englishman,spaniard,ukrainian,norwegian,japanese in itertools.permutations(range(1,6)):\n",
    "        if (norwegian != 1):\n",
    "            continue\n",
    "        for green,blue,red,yellow,ivory in itertools.permutations(range(1,6)):\n",
    "            if(englishman != red or ivory +1 != green or abs(norwegian - blue) != 1):\n",
    "                continue\n",
    "            for dog,snails,fox,zebra,horse in itertools.permutations(range(1,6)):\n",
    "                if(spaniard != dog ):\n",
    "                    continue\n",
    "                for milk,tea,coffee,orange,water in itertools.permutations(range(1,6)):\n",
    "                    if(milk != 3 or coffee != ukrainian ):\n",
    "                        continue\n",
    "                    for lucky_strike,parliaments,kools,chesterfields,old_gold in itertools.permutations(range(1,6)):\n",
    "                        if( old_gold != snails or chesterfields != fox +1 or\n",
    "                            lucky_strike != orange or japanese != parliaments):\n",
    "                            continue\n",
    "                        print [englishman,spaniard,ukrainian,norwegian,japanese]\n",
    "                        print [green,blue,red,yellow,ivory]\n",
    "                        print [dog,snails,fox,zebra,horse]\n",
    "                        print [milk,tea,coffee,orange,water]\n",
    "                        print [lucky_strike,parliaments,kools,chesterfields,old_gold]\n",
    "                        return\n",
    "\n",
    "solve_zebra_puzzle()"
   ]
  },
  {
   "cell_type": "markdown",
   "metadata": {
    "collapsed": false
   },
   "source": [
    "# CRYPTO ARITHMETIC\n",
    "https://en.wikipedia.org/wiki/Verbal_arithmetic\n"
   ]
  },
  {
   "cell_type": "code",
   "execution_count": 79,
   "metadata": {
    "collapsed": false
   },
   "outputs": [
    {
     "name": "stdout",
     "output_type": "stream",
     "text": [
      "9567 + 1085 == 10652\n"
     ]
    }
   ],
   "source": [
    "#    SEND \n",
    "#+   MORE \n",
    "#=  MONEY\n",
    "def make_empty_string_zero(string):\n",
    "    return \"0\" if string == \"\" else string\n",
    "\n",
    "import itertools\n",
    "def crypto_arithmetic1():\n",
    "    for S,E,N,D,M,O,R,Y in itertools.permutations(range(10),8):\n",
    "        if M!=1 or S==0:\n",
    "            continue\n",
    "        S,E,N,D,M,O,R,Y = map(lambda x: str(x),[S,E,N,D,M,O,R,Y])\n",
    "        SEND = \"%s%s%s%s\" % (S,E,N,D)\n",
    "        MORE = \"%s%s%s%s\" % (M,O,R,E)\n",
    "        MONEY = \"%s%s%s%s%s\" % (M,O,N,E,Y)\n",
    "        SEND = SEND.lstrip(\"0\")\n",
    "        MORE = MORE.lstrip(\"0\")\n",
    "        MONEY = MONEY.lstrip(\"0\")\n",
    "        SEND, MORE, MONEY = map(make_empty_string_zero,[SEND,MORE,MONEY])\n",
    "        if eval(\" \".join([SEND,\"+\",MORE,\"==\",MONEY])):\n",
    "            return \" \".join([SEND,\"+\",MORE,\"==\",MONEY])\n",
    "                                        \n",
    "print crypto_arithmetic1()     \n",
    "                                    "
   ]
  },
  {
   "cell_type": "code",
   "execution_count": 80,
   "metadata": {
    "collapsed": true
   },
   "outputs": [],
   "source": [
    "#  ODD \n",
    "# +ODD\n",
    "# EVEN "
   ]
  },
  {
   "cell_type": "code",
   "execution_count": 81,
   "metadata": {
    "collapsed": false
   },
   "outputs": [
    {
     "name": "stdout",
     "output_type": "stream",
     "text": [
      "655 + 655 == 1310\n"
     ]
    }
   ],
   "source": [
    "def make_empty_string_zero(string):\n",
    "    return \"0\" if string == \"\" else string\n",
    "\n",
    "import itertools\n",
    "def crypto_arithmetic2():\n",
    "    for O,D,E,V,N in itertools.permutations(range(10),5):\n",
    "        if E!=1 or D not in (1,3,5,7,9) or N not in (2,4,6,8,0):\n",
    "            continue\n",
    "        O,D,E,V,N = map(lambda x: str(x),[O,D,E,V,N])\n",
    "        ODD = \"%s%s%s\" % (O,D,D)\n",
    "        EVEN = \"%s%s%s%s\" % (E,V,E,N)\n",
    "        ODD = ODD.lstrip(\"0\")\n",
    "        EVEN = EVEN.lstrip(\"0\")\n",
    "        ODD, EVEN = map(make_empty_string_zero,[ODD, EVEN])\n",
    "        if eval(\" \".join([ODD,\"+\",ODD,\"==\",EVEN])):\n",
    "            return \" \".join([ODD,\"+\",ODD,\"==\",EVEN])\n",
    "                                        \n",
    "print crypto_arithmetic2() "
   ]
  },
  {
   "cell_type": "markdown",
   "metadata": {},
   "source": [
    "# floor puzzle\n",
    "\n",
    "Hopper, Kay, Liskov, Perlis, and Ritchie live on \n",
    "different floors of a five-floor apartment building.\n",
    "\n",
    "\n",
    "Hopper does not live on the top floor. \n",
    "Kay does not live on the bottom floor. \n",
    "Liskov does not live on either the top or the bottom floor. \n",
    "Perlis lives on a higher floor than does Kay. \n",
    "Ritchie does not live on a floor adjacent to Liskov's. \n",
    "Liskov does not live on a floor adjacent to Kay's. \n",
    "\n",
    "Where does everyone live?  \n",
    "\n",
    "Write a function floor_puzzle() that returns a list of\n",
    "five floor numbers denoting the floor of Hopper, Kay, \n",
    "Liskov, Perlis, and Ritchie."
   ]
  },
  {
   "cell_type": "code",
   "execution_count": 82,
   "metadata": {
    "collapsed": false
   },
   "outputs": [
    {
     "name": "stdout",
     "output_type": "stream",
     "text": [
      "(3, 2, 4, 5, 1)\n"
     ]
    }
   ],
   "source": [
    "import itertools\n",
    "def floor_puzzle():\n",
    "    for hopper, kay, liskov, perlis,ritchie in itertools.permutations([1,2,3,4,5]):\n",
    "        if hopper !=5 and kay!=1 and liskov !=5 and liskov !=1 and perlis > kay and abs(ritchie - liskov) > 1 and abs(liskov - kay) > 1:\n",
    "            return (hopper, kay, liskov, perlis,ritchie)\n",
    "            \n",
    "print floor_puzzle()           \n",
    "    "
   ]
  },
  {
   "cell_type": "markdown",
   "metadata": {},
   "source": [
    "# Sub palindrome\n",
    "\n",
    "\n",
    "1) Largest sub string palindrome\n",
    "\n",
    "## solution1\n",
    "**brute force:  O(n^3)** \n",
    "\n",
    "we consider every possible sub string. n^2 options. Checking whether each subsctring is a palindrome is O(n).\n",
    "\n",
    "## solution2\n",
    "**Overlapping sub-problem**\n",
    "\n",
    "Consider two substring i,j and i-1,j+1. we are solving the same sub problem isPalindrome(i,j) twice. We can precompute isPalindrome using tabulation(DP) in O(n^2). Using the table, we can check whether a string is Palindrome in O(1).\n",
    "\n",
    "**tabulation of isPalindrome: O(n^2) for creating table + O(n^2) for enumerating through all sub strings**\n",
    "\n",
    "\n",
    "## solution3\n",
    "\n",
    "**use optimal substructure**\n",
    "\n",
    "Assume we know the solution to optimal solution to substructure (i,j). Only if (i,j) is a palindrome, we can consider other substructures centered around (i,j). Otherwise we can reject the other substructures centered around (i,j).\n",
    "So a substructure can be defined as longest palindrome centered around a point x in the string. We can grow this till length n. And there are n such points in the string. Worst case when the whole string comprimises of same char is O(n^2), but on an average it will around order of n.\n",
    "\n",
    "**consider each substructure centered at every point in string and try to grow the string till it satisfies isPalindrome check. WOrst case is O(n^2). But on an average it will perform much better**\n"
   ]
  },
  {
   "cell_type": "code",
   "execution_count": 8,
   "metadata": {
    "collapsed": false
   },
   "outputs": [
    {
     "name": "stdout",
     "output_type": "stream",
     "text": [
      "tests passed\n",
      "tests passed\n"
     ]
    }
   ],
   "source": [
    "def test(longest_sub_palindrome_slice):\n",
    "    assert \"ere\" == longest_substring_palindrome_slice(\"where\")\n",
    "    assert \"racecar\" == longest_substring_palindrome_slice(\"where is the racecar?\")\n",
    "    assert \"w\" == longest_substring_palindrome_slice(\"we\")\n",
    "    return \"tests passed\"\n",
    "\n",
    "\n",
    "def longest_substring_palindrome_slice_sol2(string):\n",
    "    if len(string) in (0,1):\n",
    "        return string\n",
    "    is_palindrome = [[False] * len(string) for i in range(len(string)) ]\n",
    "    max_second_index_displacement = -1\n",
    "    for second_index_displacement in range(len(string)):\n",
    "        for i in range(len(string)- second_index_displacement):\n",
    "            is_palindrome[i][i+ second_index_displacement] = True if second_index_displacement == 0 else is_palindrome[i +1][i+ second_index_displacement-1] and (string[i]== string[i+second_index_displacement])\n",
    "            if is_palindrome[i][i+ second_index_displacement] and second_index_displacement > max_second_index_displacement :\n",
    "                max_second_index_displacement = second_index_displacement\n",
    "                max_string = string[i:i+max_second_index_displacement+1]\n",
    "    return max_string \n",
    "\n",
    "def longest_substring_palindrome_slice_sol1(string):\n",
    "    max_palindrome_string = \"\"\n",
    "    max_palindrome_length = 0\n",
    "    for i in range(len(string)):\n",
    "        length, palindrome = grow(string,(i,))\n",
    "        if length > max_palindrome_length:\n",
    "            max_palindrome_length = length\n",
    "            max_palindrome_string = string\n",
    "    for i in range(len(string)-1):\n",
    "        length, palindrome = grow(string,(i,i+1))\n",
    "        if length > max_palindrome_length:\n",
    "            max_palindrome_length = length\n",
    "            max_palindrome_string = string\n",
    "            \n",
    "    return max_palindrome_string           \n",
    "        \n",
    "def grow(string, centered_at):\n",
    "    centered_at_one_point = len(centered_at) == 1\n",
    "    if centered_at_one_point:\n",
    "        i = j = centered_at\n",
    "    else:\n",
    "        i = centered_at[0]\n",
    "        j = centered_at[1]\n",
    "    \n",
    "    if(string[i] != string[j]):\n",
    "        # length and string\n",
    "        return (0,\"\")\n",
    "    \n",
    "    # because of the if filter,we can assume that i,j substring isPalindrome\n",
    "    while(i-1 >=0 and j+1 < len(string) and string[i-1] == string[j+1]):\n",
    "        i-=1\n",
    "        j+=1\n",
    "    #i,j grows through the while loop\n",
    "    max_palindrome_string = string[i:j+1]\n",
    "    max_palindrome_length = j+1-i\n",
    "    return (max_palindrome_length,max_palindrome_string)\n",
    "        \n",
    "        \n",
    "\n",
    "print test(longest_substring_palindrome_slice_sol2)\n",
    "print test(longest_substring_palindrome_slice_sol1)\n"
   ]
  },
  {
   "cell_type": "markdown",
   "metadata": {
    "collapsed": true
   },
   "source": [
    "2) Largest sub sequence palindrome\n",
    "\n",
    "Given a string Return the largest subsequence which is a palindrome\n",
    "A subsequence is palindromic if it is the same whether read left to right or right to left. For instance, the sequence\n",
    "A,C,G,T,G,T,C,A,A,A,A,T,C,G\n",
    "has many palindromic subsequences, including A,C,G,C,A and A,A,A,A.\n",
    "\n",
    "Brute force would O(n 2^n)\n",
    "\n",
    "Complexity by applying DP on l_sseq_p method would be O(n^2)\n",
    "\n"
   ]
  },
  {
   "cell_type": "code",
   "execution_count": 84,
   "metadata": {
    "collapsed": false
   },
   "outputs": [
    {
     "name": "stdout",
     "output_type": "stream",
     "text": [
      "tests passed\n"
     ]
    }
   ],
   "source": [
    "def test(longest_subsequence_palindrome_slice):\n",
    "    #assert \"ere\" ==  longest_subsequence_palindrome_slice(\"where\")\n",
    "    assert \"tolling n gnillot\" == longest_subsequence_palindrome_slice(\"trolling in gnillot\")\n",
    "    return \"tests passed\"\n",
    "\n",
    "memoize = {}\n",
    "def longest_subsequence_palindrome_slice(string):\n",
    "    if len(string) in (0,1):\n",
    "        return string\n",
    "    if string in memoize:\n",
    "        return memoize[string]\n",
    "    if string[0] == string[-1]:\n",
    "        return \"\".join([string[0],longest_subsequence_palindrome_slice(string[1:-1]),string[-1]])\n",
    "    memoize[string] = max(map(longest_subsequence_palindrome_slice,[string[1:],string[:-1]]),key=len)                    \n",
    "    return memoize[string]\n",
    "    \n",
    "print test(longest_subsequence_palindrome_slice)\n",
    "\n"
   ]
  }
 ],
 "metadata": {
  "kernelspec": {
   "display_name": "Python 2",
   "language": "python",
   "name": "python2"
  },
  "language_info": {
   "codemirror_mode": {
    "name": "ipython",
    "version": 2
   },
   "file_extension": ".py",
   "mimetype": "text/x-python",
   "name": "python",
   "nbconvert_exporter": "python",
   "pygments_lexer": "ipython2",
   "version": "2.7.10"
  }
 },
 "nbformat": 4,
 "nbformat_minor": 0
}
