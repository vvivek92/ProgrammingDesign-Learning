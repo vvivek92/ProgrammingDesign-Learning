{
 "cells": [
  {
   "cell_type": "markdown",
   "metadata": {},
   "source": [
    "# Dynamic Programming\n",
    "\n",
    "Identifying the a problem that can be computed from its sub problem, which eventually results in attaining our final goal with least number of computation, is the challenging part of designing a dynamic programming solution. A thing to note here is the goal we want to reach and the problem we want to apply DP could be different.\n",
    "\n",
    "\n",
    "For example, let's take two similar problems and see who the two problems have different dynamic programming structure.\n",
    "\n",
    "1) Longest sub string palindrome. Here we apply DP on is_palindrome method. This is because most of the overlap here is in the way is_palindrome is used. Once we have is_palindrome table, we use it the figure out the largest palindromic substring.\n",
    "\n",
    "\n",
    "2) Longest sub sequence palindrome. Here we can apply DP on the goal problem itself. We can use the longest sub sequence palindrome solution for string of length n-1's to compute longest palindromic of length n.\n",
    "\n",
    "Solutions to both the problems are implemented it $GIT_ROOT/udacity_cs_212/lesson_2/\n",
    "\n",
    "\n",
    "DP can solved top down using recursion and memoize or bottom up using tabulation and iteration.\n",
    "Bottom up can be viewed as topological sort of top down recursion DAG.\n",
    "\n",
    "A rule of thumb on when DP could be useful to reduce time complexity is that DP is good for optimization problems(longest, shortest)\n"
   ]
  },
  {
   "cell_type": "markdown",
   "metadata": {
    "collapsed": true
   },
   "source": [
    "For a problem to be solved by DP, it has to have two properties:\n",
    "\n",
    "1. Optimal Substructure : A given problem has Optimal Substructure Property if optimal solution of the given problem can be obtained by using optimal solutions of its subproblems. e.g. If the original problem is to find out the minimum path between point A to point B and there is some point C in between which has to be passed, then the problem can be divided into finding minimum path between A to C and then C to B, hence the original problem can be solved by finding the optimal solution for these 2 subproblems.\n",
    "\n",
    "2. Overlapping Subproblems : The original Problem is divided into number of subproblems and then these subproblems into sub-sub-problems and this goes on and on, now if a particular subproblem is called more than once, then we can save the solution of that particular subproblem and can use them the next time that subproblem is called again.\n",
    "\n",
    "\n",
    "    \n",
    "    "
   ]
  },
  {
   "cell_type": "markdown",
   "metadata": {},
   "source": [
    "# Backtracking"
   ]
  },
  {
   "cell_type": "markdown",
   "metadata": {},
   "source": [
    "Backtracking is a refinement of the brute force approach, which systematically searches for a solution to a problem among all available options. It does so by assuming that the solutions are represented by vectors (v1, ..., vm) of values and by traversing, in a depth first manner, the domains of the vectors until the solutions are found."
   ]
  },
  {
   "cell_type": "markdown",
   "metadata": {},
   "source": [
    "Backtracking helps in decreasing computation complexity when the problem has overlapping sub problems.\n",
    "Dynamic Programming requires additional criteria of optimal substructure to be useful."
   ]
  },
  {
   "cell_type": "markdown",
   "metadata": {},
   "source": [
    "### Problem\n",
    "\n",
    "Given a non-empty string composed of digits only, we may group these digits into sub-groups (but maintaining their original order) if, for every sub-group but the last one, the sum of the digits in a sub-group is less than or equal to the sum of the digits in the sub-group immediately on its right. Needless to say, each digit will be in exactly one sub-group.\n",
    "\n",
    "\n",
    "For example, the string 635 can only be grouped in one sub-group [635] or in two sub-groups as follows: [6-35] (since 6 < 8.) Another example is the string 1117 which can be grouped in one sub-group [1117] or as in the\n",
    "following: [1-117], [1-1-17], [1-11-7], [1-1-1-7], [11-17],and [111-7] but not any more, hence the total number of possibilities is 7.\n",
    "\n",
    "\n",
    "Write a program that computes the total number of possibilities of such groupings for a given string of digits."
   ]
  },
  {
   "cell_type": "markdown",
   "metadata": {
    "collapsed": true
   },
   "source": [
    "### Solution\n",
    "\n",
    "Let the string be of length n. There are 2^n possible separations. And checking the condition on each sub problem would take n\n",
    "\n",
    "**Brute force: O(n * 2^n)**\n",
    "\n",
    "\n",
    "This problem exhibits overlapping sub problems.\n",
    "\n",
    "The two alternatives 1 1 1 1 7 and 1 1 1 17  of 11117 solve the same subproblem whether 1 1 1 1 satisfies the condition given(sum of sub groups is in ascending order)\n",
    "\n",
    "\n",
    "When we use backtracking we need not solve the same sub problem again and again.\n",
    "\n",
    "**back tracking O(2^n)**"
   ]
  },
  {
   "cell_type": "code",
   "execution_count": 23,
   "metadata": {
    "collapsed": false
   },
   "outputs": [
    {
     "name": "stdout",
     "output_type": "stream",
     "text": [
      "tests passed\n"
     ]
    }
   ],
   "source": [
    "# backtracking implementation\n",
    "\n",
    "#invariant for the method call\n",
    "#unprocessed_string is the string not seen yet.\n",
    "#the first element in the unprocessed_string will be considered as a part of the current_sub_group\n",
    "#a valid sub group should honor the lower limit.\n",
    "#This invariant also ensures that sub_groups are not empty.\n",
    "# and the method assumes the unprocessed_string to be non zero.(case is not handled) \n",
    "def custom_sum(current_sub_group):\n",
    "    return sum(map(lambda x: int(x),current_sub_group))\n",
    "\n",
    "def count_for_permutations(unprocessed_string,current_sub_group=[],lower_limit_for_sum= 0,count=0):\n",
    "    if len(unprocessed_string) == 1:\n",
    "        if(custom_sum(current_sub_group + [unprocessed_string[0]])  >= lower_limit_for_sum):\n",
    "            return count+1\n",
    "        return count\n",
    "    current_count = 0\n",
    "    if(custom_sum(current_sub_group + [unprocessed_string[0]])  >= lower_limit_for_sum):\n",
    "        # ending the subgroup if a valid subgroup\n",
    "        current_count+= count_for_permutations(unprocessed_string[1:],[], custom_sum(current_sub_group + [unprocessed_string[0]]))\n",
    "    #adding one more element into the sub group\n",
    "    current_count+= count_for_permutations(unprocessed_string[1:],current_sub_group +[unprocessed_string[0]],lower_limit_for_sum )\n",
    "    return current_count + count   \n",
    "    \n",
    "def test():\n",
    "    assert 1 == count_for_permutations(\"1\")\n",
    "    assert 2 == count_for_permutations(\"12\")\n",
    "    assert 1 == count_for_permutations(\"21\")\n",
    "    assert 7  == count_for_permutations(\"1117\")\n",
    "    assert 2 == count_for_permutations(\"9876\")\n",
    "    return \"tests passed\"\n",
    "\n",
    "print test()"
   ]
  },
  {
   "cell_type": "markdown",
   "metadata": {},
   "source": [
    "### Improvements\n",
    "\n",
    "If the problem has optimal substructure, then DP would give better time complexity\n",
    "\n",
    "Let's assume sub structure is 1D.\n",
    "Suppose we know the solution to count[idx]  (from 0 to idx). Here the last subgroup ends at idx.\n",
    "Then the sum of the last group can be multiple things.\n",
    "\n",
    "so sub structure has to be 2D.\n",
    "\n",
    "Suppose we know the optimal solution to sub structure count[idx][prevSum]. \n",
    "\n",
    "\n",
    "**Optimal substructure**\n",
    "\n",
    "count[idx][prevSeq] = sum(count(i,val ))  for all possible val <= prevSeq and i+1 to idx sum is prevSeq\n",
    "\n",
    "**Base condition**\n",
    "\n",
    "count[idx][prevSeq] = 1 where idx = 0 and prevSeq = array[0]\n"
   ]
  },
  {
   "cell_type": "code",
   "execution_count": 1,
   "metadata": {
    "collapsed": true
   },
   "outputs": [],
   "source": [
    "# TODO time complexity\n",
    "# TODO implementation\n",
    "    \n",
    "    "
   ]
  },
  {
   "cell_type": "markdown",
   "metadata": {},
   "source": [
    "### Problem : Minimum Steps to One\n",
    "\n",
    "**Problem Statement:**\n",
    "\n",
    "On a positive integer, you can perform any one of the following 3 steps. 1.) Subtract 1 from it. ( n = n - 1 )  , 2.) If its divisible by 2, divide by 2. ( if n % 2 == 0 , then n = n / 2  )  , 3.) If its divisible by 3, divide by 3. ( if n % 3 == 0 , then n = n / 3  ). Now the question is, given a positive integer n, find the minimum number of steps that takes n to 1\n",
    "\n",
    "\n",
    "eg: 1.)For n = 1 , output: 0       2.) For n = 4 , output: 2  ( 4  /2 = 2  /2 = 1 )    3.)  For n = 7 , output: 3  (  7  -1 = 6   /3 = 2   /2 = 1 )\n",
    "\n",
    "**Solution**\n",
    "\n",
    "`distance_from[1] = 0`\n",
    "\n",
    "`distance_from[x] = INF if x < 0 or x is not whole number`\n",
    "\n",
    "`distance_from[value] = min(distance_from[value-1],distance_from[value/2.0],distance_from[value/3.0]) + 1`\n",
    "\n",
    "**Time Complexity :O(n)**"
   ]
  },
  {
   "cell_type": "code",
   "execution_count": 9,
   "metadata": {
    "collapsed": false
   },
   "outputs": [
    {
     "name": "stdout",
     "output_type": "stream",
     "text": [
      "called with args 7\n",
      "called with args 6\n",
      "called with args 5\n",
      "called with args 4\n",
      "called with args 2.5\n",
      "called with args 1.66666666667\n",
      "called with args 3.0\n",
      "called with args 2.0\n",
      "called with args 3.5\n",
      "called with args 2.33333333333\n",
      "tests passed\n"
     ]
    }
   ],
   "source": [
    "# implementation\n",
    "import sys\n",
    "memoize = {}\n",
    "\n",
    "def minimum_steps_to_one(x,debug=False):\n",
    "    if(debug):\n",
    "        print \"called with args %s\" % x\n",
    "    if x in memoize:\n",
    "        return memoize[x]\n",
    "    if(x == 1):\n",
    "        ret_val = 0\n",
    "    elif(x<=0 or int(x) != x ):\n",
    "        ret_val = sys.maxint\n",
    "    else:\n",
    "        ret_val = min(minimum_steps_to_one(x-1,debug),minimum_steps_to_one(x/2.,debug),minimum_steps_to_one(x/3.,debug)) + 1\n",
    "    memoize[x] = ret_val\n",
    "    return memoize[x]\n",
    "\n",
    "\n",
    "def tests():\n",
    "    assert 0 == minimum_steps_to_one(1)\n",
    "    assert 2 == minimum_steps_to_one(4)\n",
    "    assert 3 == minimum_steps_to_one(7,debug=True)\n",
    "    print \"tests passed\"\n",
    "    \n",
    "tests()    \n",
    "    "
   ]
  },
  {
   "cell_type": "code",
   "execution_count": null,
   "metadata": {
    "collapsed": true
   },
   "outputs": [],
   "source": []
  }
 ],
 "metadata": {
  "kernelspec": {
   "display_name": "Python 2",
   "language": "python",
   "name": "python2"
  },
  "language_info": {
   "codemirror_mode": {
    "name": "ipython",
    "version": 2
   },
   "file_extension": ".py",
   "mimetype": "text/x-python",
   "name": "python",
   "nbconvert_exporter": "python",
   "pygments_lexer": "ipython2",
   "version": "2.7.11"
  }
 },
 "nbformat": 4,
 "nbformat_minor": 0
}
