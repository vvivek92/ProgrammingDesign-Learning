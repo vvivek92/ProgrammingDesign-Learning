{
 "cells": [
  {
   "cell_type": "markdown",
   "metadata": {},
   "source": [
    "# Problem:\n",
    "A pipe company produces pipes of fixed length n.\n",
    "It gets orders of k number of pipes each with length between (0,n] every day.\n",
    "Write an algorithm that will help the company fulfill the orders using minimum number of fixed length of pipes.\n",
    "\n"
   ]
  },
  {
   "cell_type": "markdown",
   "metadata": {},
   "source": [
    "# Solution1\n",
    "For k orders, consider all permutations.\n",
    "For each permutation, greedily compute cost.\n",
    "Pick permutation with minimum cost.<br>\n",
    "We need two data structures:\n",
    "1) Order: use list\n",
    "2) Cost: list containing all pipes used where value is the remaining length of pipe.<br>\n",
    "If we used a single pipe of length n fully, Then the data structure representing cost is [0]\n",
    "\n",
    "Order of Complexity is O(n!)\n",
    "\n"
   ]
  },
  {
   "cell_type": "code",
   "execution_count": 30,
   "metadata": {
    "collapsed": false
   },
   "outputs": [
    {
     "name": "stdout",
     "output_type": "stream",
     "text": [
      "tests passed\n"
     ]
    }
   ],
   "source": [
    "# ITERATIVE IMPLEMENTATION OF Solution1\n",
    "import itertools\n",
    "n = 10\n",
    "\n",
    "def fulfill_element_greedily(pipes_used, order):\n",
    "    eligible_pipes = filter(lambda x : x - order >= 0, pipes_used)\n",
    "    if len(eligible_pipes) == 0:\n",
    "        new_pipe_used = n-order\n",
    "    else:\n",
    "        eligible_pipes.sort(reverse=True)\n",
    "        new_pipe_used = eligible_pipes[-1] - order\n",
    "        pipes_used.remove(eligible_pipes[-1])\n",
    "    return pipes_used + [new_pipe_used]   \n",
    "        \n",
    "    \n",
    "def cost_for_greedy_fulfill(orders):\n",
    "    pipes_used = []\n",
    "    for order in orders:\n",
    "        pipes_used = fulfill_element_greedily(pipes_used, order)\n",
    "    return len(pipes_used)\n",
    "\n",
    "def min_cost(orders):\n",
    "    if(any(map(lambda x : x > n,orders))):\n",
    "        print \"Orders %s\" % str(orders)\n",
    "        raise ValueError(\"Invalid orders\")\n",
    "    return min(map(cost_for_greedy_fulfill,itertools.permutations(orders))) if len(orders)!=0 else 0\n",
    "\n",
    "    \n",
    "def test():\n",
    "    assert 0 == min_cost([])\n",
    "    assert 1 == min_cost([1])\n",
    "    assert 1 == min_cost([5])\n",
    "    assert 1 == min_cost([10])\n",
    "    assert 2 == min_cost([10,2])\n",
    "    assert 2 == min_cost([2,9,7])\n",
    "    assert 2 == min_cost([1,7,9,3])\n",
    "    return \"tests passed\"\n",
    "\n",
    "print test()\n",
    "\n"
   ]
  },
  {
   "cell_type": "markdown",
   "metadata": {},
   "source": [
    "On further reading, realized that the above problem is np hard.\n",
    "It is a variant of https://en.wikipedia.org/wiki/Bin_packing_problem.\n",
    "Need to explore polynomial time approximation algorithms to this problem\n",
    "\n",
    "\n"
   ]
  },
  {
   "cell_type": "code",
   "execution_count": null,
   "metadata": {
    "collapsed": true
   },
   "outputs": [],
   "source": []
  }
 ],
 "metadata": {
  "kernelspec": {
   "display_name": "Python 2",
   "language": "python",
   "name": "python2"
  },
  "language_info": {
   "codemirror_mode": {
    "name": "ipython",
    "version": 2
   },
   "file_extension": ".py",
   "mimetype": "text/x-python",
   "name": "python",
   "nbconvert_exporter": "python",
   "pygments_lexer": "ipython2",
   "version": "2.7.10"
  }
 },
 "nbformat": 4,
 "nbformat_minor": 0
}
