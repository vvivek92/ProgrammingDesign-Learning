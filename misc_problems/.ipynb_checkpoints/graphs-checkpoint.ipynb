{
 "cells": [
  {
   "cell_type": "markdown",
   "metadata": {},
   "source": [
    "## Hand Shaking Lemma\n",
    "\n",
    "\n",
    "**undirected graph:**\n",
    "\n",
    "`sum of degree of all vertices = 2 * number of edges`\n",
    "\n",
    "**directed graph:**\n",
    "\n",
    "`sum of in-degree of all vertices = sum of out-degree of all vertices`\n",
    "\n",
    "\n",
    "and\n",
    "\n",
    "`sum of in-degree of all vertices + sum of out-degree of all vertices = 2 * number of edges`\n"
   ]
  },
  {
   "cell_type": "code",
   "execution_count": 24,
   "metadata": {
    "collapsed": false
   },
   "outputs": [
    {
     "ename": "IndentationError",
     "evalue": "expected an indented block (<ipython-input-24-7d854adcb2cf>, line 3)",
     "output_type": "error",
     "traceback": [
      "\u001b[0;36m  File \u001b[0;32m\"<ipython-input-24-7d854adcb2cf>\"\u001b[0;36m, line \u001b[0;32m3\u001b[0m\n\u001b[0;31m    def __init__(self,number_of_nodes):\u001b[0m\n\u001b[0m      ^\u001b[0m\n\u001b[0;31mIndentationError\u001b[0m\u001b[0;31m:\u001b[0m expected an indented block\n"
     ]
    }
   ],
   "source": [
    "    \n",
    "class AdjacencyList:\n",
    "    def __init__(self,number_of_nodes):\n",
    "        self.internal_representation = defaultdict(set)\n",
    "        self.number_of_nodes = number_of_nodes\n",
    "        \n",
    "    def add_edge(self,node1, node2):\n",
    "        self.sanity_check(node1, node2)\n",
    "        self.internal_representation[node1].append(node2)\n",
    "        self.internal_representation[node2].append(node1)\n",
    "    def remove_edge(self, node1, node2):\n",
    "        self.sanity_check(node1, node2)\n",
    "        self.internal_representation[node1].remove(node2)\n",
    "        self.internal_representation[node2].remove(node1)\n",
    "    def sanity_check(node1, node2):\n",
    "        if( node1 <0 or node2 <0 or node1 >= self.number_of_nodes or node2 >= self.number_of_nodes ):\n",
    "            raise ValueError(\"nodes values passed are invalid\")\n",
    "    \n",
    "class AdjacencyMatrix:\n",
    "    def __init__(self,number_of_nodes):\n",
    "        self.internal_representation = [number_of_nodes * [False]  for i in range(number_of_nodes)  ]\n",
    "        \n",
    "    def add_edge(self,node1, node2):\n",
    "        self.internal_representation[node1][node2]=True\n",
    "        self.internal_representation[node2][node1]=True\n",
    "    def remove_edge(self, node1, node2):\n",
    "        self.internal_representation[node1][node2]=False\n",
    "        self.internal_representation[node2][node1]=False\n"
   ]
  },
  {
   "cell_type": "markdown",
   "metadata": {},
   "source": [
    "## Breadth First Search"
   ]
  },
  {
   "cell_type": "markdown",
   "metadata": {},
   "source": [
    "BFS running time\n",
    "\n",
    "adjacency matrix representation: O(V*V)\n",
    "\n",
    "ajacency list representation: O(V + E)  or O(E)  based on how visited nodes information is stored(list or dictionary)"
   ]
  },
  {
   "cell_type": "code",
   "execution_count": 1,
   "metadata": {
    "collapsed": true
   },
   "outputs": [],
   "source": [
    "from collections import defaultdict\n",
    "def breadth_first_search(graph, start_node):\n",
    "    visited_nodes = defaultdict(False)\n",
    "    distances = defaultdict(None)\n",
    "    queue = [start_node]\n",
    "    while(len(queue) != 0):\n",
    "        visting_node = queue.pop()\n",
    "        visited_nodes[visting_node] = True\n",
    "        unvisted_neighbours = graph.fetch_unvisited_neighbours(start_node,visited_nodes)\n",
    "        for unvisted_neighbour in unvisted_neighbours:\n",
    "            distances[unvisted_neighbour] = distances[visting_node] + 1\n",
    "            queue.append(unvisted_neighbour)\n",
    "    return distances        \n",
    "    \n",
    "        \n",
    "        \n",
    "        \n",
    "        \n",
    "        \n",
    "        \n",
    "    \n",
    "    "
   ]
  },
  {
   "cell_type": "code",
   "execution_count": null,
   "metadata": {
    "collapsed": true
   },
   "outputs": [],
   "source": []
  }
 ],
 "metadata": {
  "kernelspec": {
   "display_name": "Python 2",
   "language": "python",
   "name": "python2"
  },
  "language_info": {
   "codemirror_mode": {
    "name": "ipython",
    "version": 2
   },
   "file_extension": ".py",
   "mimetype": "text/x-python",
   "name": "python",
   "nbconvert_exporter": "python",
   "pygments_lexer": "ipython2",
   "version": "2.7.11"
  }
 },
 "nbformat": 4,
 "nbformat_minor": 0
}
