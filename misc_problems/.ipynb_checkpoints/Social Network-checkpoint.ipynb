{
 "cells": [
  {
   "cell_type": "markdown",
   "metadata": {},
   "source": [
    "# Social Network\n",
    "\n",
    "* Given a person in the a social network do the following operations.\n",
    "\n",
    "* Addition of a friend(relation)\n",
    "\n",
    "* Deletion of a friend(relation)\n",
    "\n",
    "* Degree of separation between two people in the network\n",
    "\n",
    "* Find n degree of friend for a person in the network\n",
    "\n",
    "# INPUT \n",
    "* Add a friend\n",
    "\n",
    "1 person1 person2\n",
    "\n",
    "* To remove a friend\n",
    "\n",
    "2 person1 person2\n",
    "\n",
    "* To get all n degree friends of a person\n",
    "\n",
    "3 person1 2\n",
    "\n",
    "* To get the degree of separation between two people\n",
    "\n",
    "4 person1 person2\n",
    "\n",
    "* To print all the people connecting two people\n",
    "\n",
    "5 person1 person2\n",
    "\n",
    "\n",
    "\n",
    "\n",
    "\n"
   ]
  },
  {
   "cell_type": "code",
   "execution_count": null,
   "metadata": {
    "collapsed": false
   },
   "outputs": [],
   "source": [
    "import collections\n",
    "# adjacency list space complexity O(E+V)\n",
    "def empty_social_network():\n",
    "    return collections.defaultdict(list)\n",
    "\n",
    "def add_friend(social_network, person1, person2):\n",
    "    if person2 not in social_network[person1]:\n",
    "        social_network[person1].append(person2)\n",
    "    if person1 not in social_network[person2]:\n",
    "        social_network[person2].append(person1)\n",
    "\n",
    "def delete_friend(social_network, person1, person2):\n",
    "    social_network[person1].remove(person2)\n",
    "    social_network[person2].remove(person1)\n",
    "\n",
    "#O(E+v)    \n",
    "def breadth_first_search(graph,root):\n",
    "    distances = { vertex: -1 for vertex in graph.keys()}\n",
    "    queue = [root]\n",
    "    distances[root] = 0\n",
    "    while len(queue) != 0:\n",
    "        current_root = queue.pop()\n",
    "        for neighbour in graph[current_root]:\n",
    "            # not visited\n",
    "            if distances[neighbour] == -1:\n",
    "                queue.insert(0, neighbour)\n",
    "                distances[neighbour] = distances[current_root] +1\n",
    "    return distances        \n",
    "        \n",
    "        \n",
    "    \n",
    "def test():\n",
    "    social_network = empty_social_network()\n",
    "    add_friend(social_network,\"a\",\"b\")\n",
    "    add_friend(social_network,\"a\",\"b\")\n",
    "    add_friend(social_network,\"b\",\"c\")\n",
    "    print social_network\n",
    "    print breadth_first_search(social_network,\"a\")\n",
    "    \n",
    "    \n",
    "    \n",
    "test()"
   ]
  },
  {
   "cell_type": "code",
   "execution_count": null,
   "metadata": {
    "collapsed": true
   },
   "outputs": [],
   "source": []
  }
 ],
 "metadata": {
  "kernelspec": {
   "display_name": "Python 2",
   "language": "python",
   "name": "python2"
  },
  "language_info": {
   "codemirror_mode": {
    "name": "ipython",
    "version": 2
   },
   "file_extension": ".py",
   "mimetype": "text/x-python",
   "name": "python",
   "nbconvert_exporter": "python",
   "pygments_lexer": "ipython2",
   "version": "2.7.10"
  }
 },
 "nbformat": 4,
 "nbformat_minor": 0
}
