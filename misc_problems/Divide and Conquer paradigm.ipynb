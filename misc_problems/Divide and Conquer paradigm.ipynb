{
 "cells": [
  {
   "cell_type": "markdown",
   "metadata": {},
   "source": [
    "**1 D local Peak finding problem:**\n",
    "\n",
    "Given an array x of elements, find a peak such that \n",
    "\n",
    "`x[peak-1] <= x[peak] <= x[peak+1]`\n",
    "\n"
   ]
  },
  {
   "cell_type": "code",
   "execution_count": 9,
   "metadata": {
    "collapsed": false
   },
   "outputs": [
    {
     "name": "stdout",
     "output_type": "stream",
     "text": [
      "tests passed\n"
     ]
    }
   ],
   "source": [
    "#O(logn) as we are dividing the problem into half on every recurrence. \n",
    "# Recurrence Relation T(n) = T(n/2) + c\n",
    "def one_d_peak_finding(arr,initial_index,last_index):\n",
    "    mid_index = (initial_index + last_index)/2\n",
    "    # handle arr of len 1\n",
    "    if last_index == initial_index:\n",
    "        return arr[initial_index]\n",
    "    # handle arr of len 2\n",
    "    elif mid_index == initial_index:\n",
    "        return arr[mid_index] if arr[mid_index] >= arr[mid_index+1] else arr[mid_index +1]\n",
    "    # len of 3 or higher\n",
    "    elif arr[mid_index] >= arr[mid_index +1] and arr[mid_index] >= arr[mid_index -1]:\n",
    "        return arr[mid_index]\n",
    "    elif arr[mid_index] <= arr[mid_index +1]:\n",
    "        return one_d_peak_finding(arr,mid_index+1,last_index)\n",
    "    elif arr[mid_index] <= arr[mid_index -1]:\n",
    "        return one_d_peak_finding(arr,initial_index,mid_index-1)\n",
    "        \n",
    "def test():\n",
    "    assert 3 == one_d_peak_finding([1,2,3],0,2)\n",
    "    assert 2 == one_d_peak_finding([1,2],0,1)\n",
    "    assert 2 == one_d_peak_finding([2,1],0,1)\n",
    "    assert one_d_peak_finding([4,5,3,1,7,8,5],0,1) in (5,8)\n",
    "    assert one_d_peak_finding([7,8,5,1,4,5,3],0,1) in (5,8)\n",
    "    return \"tests passed\"\n",
    "print test()        "
   ]
  },
  {
   "cell_type": "code",
   "execution_count": null,
   "metadata": {
    "collapsed": true
   },
   "outputs": [],
   "source": []
  }
 ],
 "metadata": {
  "kernelspec": {
   "display_name": "Python 2",
   "language": "python",
   "name": "python2"
  },
  "language_info": {
   "codemirror_mode": {
    "name": "ipython",
    "version": 2
   },
   "file_extension": ".py",
   "mimetype": "text/x-python",
   "name": "python",
   "nbconvert_exporter": "python",
   "pygments_lexer": "ipython2",
   "version": "2.7.10"
  }
 },
 "nbformat": 4,
 "nbformat_minor": 0
}
