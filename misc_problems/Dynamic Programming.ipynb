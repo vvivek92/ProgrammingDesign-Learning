{
 "cells": [
  {
   "cell_type": "markdown",
   "metadata": {},
   "source": [
    "# Dynamic Programming\n",
    "\n",
    "Identifying the a problem that can be computed from its sub problem, which eventually results in attaining our final goal with least number of computation, is the challenging part of designing a dynamic programming solution. A thing to note here is the goal we want to reach and the problem we want to apply DP could be different.\n",
    "\n",
    "\n",
    "For example, let's take two similar problems and see who the two problems have different dynamic programming structure.\n",
    "\n",
    "1) Longest sub string palindrome. Here we apply DP on is_palindrome method. This is because most of the overlap here is in the way is_palindrome is used. Once we have is_palindrome table, we use it the figure out the largest palindromic substring.\n",
    "\n",
    "\n",
    "2) Longest sub sequence palindrome. Here we can apply DP on the goal problem itself. We can use the longest sub sequence palindrome solution for string of length n-1's to compute longest palindromic of length n.\n",
    "\n",
    "Solutions to both the problems are implemented it $GIT_ROOT/udacity_cs_212/lesson_2/\n",
    "\n",
    "\n",
    "DP can solved top down using recursion and memoize or bottom up using tabulation and iteration.\n",
    "Bottom up can be viewed as topological sort of top down recursion DAG.\n",
    "\n",
    "A rule of thumb on when DP could be useful to reduce time complexity is that DP is good for optimization problems(longest, shortest)\n"
   ]
  },
  {
   "cell_type": "code",
   "execution_count": null,
   "metadata": {
    "collapsed": true
   },
   "outputs": [],
   "source": []
  }
 ],
 "metadata": {
  "kernelspec": {
   "display_name": "Python 2",
   "language": "python",
   "name": "python2"
  },
  "language_info": {
   "codemirror_mode": {
    "name": "ipython",
    "version": 2
   },
   "file_extension": ".py",
   "mimetype": "text/x-python",
   "name": "python",
   "nbconvert_exporter": "python",
   "pygments_lexer": "ipython2",
   "version": "2.7.10"
  }
 },
 "nbformat": 4,
 "nbformat_minor": 0
}
