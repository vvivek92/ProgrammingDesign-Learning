{
 "cells": [
  {
   "cell_type": "markdown",
   "metadata": {},
   "source": [
    "## Hand Shaking Lemma\n",
    "\n",
    "\n",
    "**undirected graph:**\n",
    "\n",
    "`sum of degree of all vertices = 2 * number of edges`\n",
    "\n",
    "**directed graph:**\n",
    "\n",
    "`sum of in-degree of all vertices = sum of out-degree of all vertices`\n",
    "\n",
    "\n",
    "and\n",
    "\n",
    "`sum of in-degree of all vertices + sum of out-degree of all vertices = 2 * number of edges`\n"
   ]
  },
  {
   "cell_type": "code",
   "execution_count": 59,
   "metadata": {
    "collapsed": false
   },
   "outputs": [],
   "source": [
    "from collections import defaultdict\n",
    "    \n",
    "class AdjacencyList:\n",
    "    def __init__(self,number_of_nodes):\n",
    "        self.internal_representation = defaultdict(set)\n",
    "        self.number_of_nodes = number_of_nodes\n",
    "        \n",
    "    def add_edge(self,node1, node2):\n",
    "        self.sanity_check(node1, node2)\n",
    "        self.internal_representation[node1].add(node2)\n",
    "        self.internal_representation[node2].add(node1)\n",
    "    def remove_edge(self, node1, node2):\n",
    "        self.sanity_check(node1, node2)\n",
    "        self.internal_representation[node1].remove(node2)\n",
    "        self.internal_representation[node2].remove(node1)\n",
    "        \n",
    "    def fetch_unvisited_neighbours(self, current_node, visited_nodes):\n",
    "        self.sanity_check(current_node, 0)\n",
    "        return [node for node in self.internal_representation[current_node] if not visited_nodes[node]]\n",
    "        \n",
    "        \n",
    "    def sanity_check(self, node1, node2):\n",
    "        if( node1 <0 or node2 <0 or node1 >= self.number_of_nodes or node2 >= self.number_of_nodes ):\n",
    "            raise ValueError(\"nodes values passed are invalid\")\n",
    "    \n",
    "class AdjacencyMatrix:\n",
    "    def __init__(self,number_of_nodes):\n",
    "        self.internal_representation = [number_of_nodes * [False]  for i in range(number_of_nodes)  ]        \n",
    "    def add_edge(self,node1, node2):\n",
    "        self.internal_representation[node1][node2]=True\n",
    "        self.internal_representation[node2][node1]=True\n",
    "    def remove_edge(self, node1, node2):\n",
    "        self.internal_representation[node1][node2]=False\n",
    "        self.internal_representation[node2][node1]=False\n",
    "    def fetch_unvisited_neighbours(self, current_node, visited_nodes):\n",
    "        return [ node for node,edge_exists in enumerate(self.internal_representation[current_node]) \n",
    "                if edge_exists == True and not visited_nodes[node]]    \n"
   ]
  },
  {
   "cell_type": "markdown",
   "metadata": {},
   "source": [
    "## Breadth First Search"
   ]
  },
  {
   "cell_type": "markdown",
   "metadata": {},
   "source": [
    "BFS running time\n",
    "\n",
    "adjacency matrix representation: O(V*V)\n",
    "\n",
    "ajacency list representation: O(V + E)  or O(E)  based on how visited nodes information is stored(list or dictionary)"
   ]
  },
  {
   "cell_type": "code",
   "execution_count": 65,
   "metadata": {
    "collapsed": false
   },
   "outputs": [
    {
     "name": "stdout",
     "output_type": "stream",
     "text": [
      "tests passed\n"
     ]
    }
   ],
   "source": [
    "def breadth_first_search(graph, start_node):\n",
    "    visited_nodes = defaultdict(lambda : False)\n",
    "    distances = defaultdict(None)\n",
    "    queue = [start_node]\n",
    "    distances[start_node] = 0\n",
    "    visited_nodes[start_node] = True\n",
    "    while(len(queue) != 0):\n",
    "        border_node = queue.pop()\n",
    "        unvisited_neighbours = graph.fetch_unvisited_neighbours(border_node,visited_nodes)\n",
    "        for unvisited_neighbour in unvisited_neighbours:\n",
    "            distances[unvisited_neighbour] = distances[border_node] + 1\n",
    "            queue.append(unvisited_neighbour)\n",
    "            # mark the univisited neighbour as visited\n",
    "            visited_nodes[unvisited_neighbour] = True\n",
    "    return distances        \n",
    "    \n",
    "        \n",
    "def test():\n",
    "    graph = AdjacencyList(5)\n",
    "    graph.add_edge(0,1)\n",
    "    graph.add_edge(2,0)\n",
    "    graph.add_edge(0,2)\n",
    "    graph.add_edge(1,3)\n",
    "    graph.add_edge(3,0)\n",
    "    graph.add_edge(3,4)\n",
    "    #O(E) as graph is adj list\n",
    "    assert defaultdict(None, {0: 0, 1: 1, 2: 1, 3: 1, 4: 2}) ==  breadth_first_search(graph, 0)\n",
    "    graph = AdjacencyMatrix(5)\n",
    "    graph.add_edge(0,1)\n",
    "    graph.add_edge(2,0)\n",
    "    graph.add_edge(0,2)\n",
    "    graph.add_edge(1,3)\n",
    "    graph.add_edge(3,0)\n",
    "    graph.add_edge(3,4)\n",
    "    #O(V * V ) as graph is adj matrix\n",
    "    assert defaultdict(None, {0: 0, 1: 1, 2: 1, 3: 1, 4: 2}) ==  breadth_first_search(graph, 0)\n",
    "    print 'tests passed'\n",
    "        \n",
    "test()"
   ]
  },
  {
   "cell_type": "code",
   "execution_count": 66,
   "metadata": {
    "collapsed": true
   },
   "outputs": [],
   "source": [
    "# DFS AND TOPOLOGICAL SORT"
   ]
  },
  {
   "cell_type": "code",
   "execution_count": null,
   "metadata": {
    "collapsed": true
   },
   "outputs": [],
   "source": []
  }
 ],
 "metadata": {
  "kernelspec": {
   "display_name": "Python 2",
   "language": "python",
   "name": "python2"
  },
  "language_info": {
   "codemirror_mode": {
    "name": "ipython",
    "version": 2
   },
   "file_extension": ".py",
   "mimetype": "text/x-python",
   "name": "python",
   "nbconvert_exporter": "python",
   "pygments_lexer": "ipython2",
   "version": "2.7.11"
  }
 },
 "nbformat": 4,
 "nbformat_minor": 0
}
